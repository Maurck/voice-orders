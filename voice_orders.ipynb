{
 "cells": [
  {
   "cell_type": "markdown",
   "metadata": {},
   "source": [
    "# Record voice"
   ]
  },
  {
   "cell_type": "code",
   "execution_count": null,
   "metadata": {},
   "outputs": [],
   "source": [
    "import pyaudio \n",
    "import wave "
   ]
  },
  {
   "cell_type": "code",
   "execution_count": null,
   "metadata": {},
   "outputs": [],
   "source": [
    "chunk = 1024  \n",
    "  \n",
    "sample_format = pyaudio.paInt16   \n",
    "chanels = 2\n",
    "  \n",
    "smpl_rt = 44400\n",
    "filename = \"audio.m4a\""
   ]
  },
  {
   "cell_type": "code",
   "execution_count": null,
   "metadata": {},
   "outputs": [],
   "source": [
    "def record_voice(seconds):\n",
    "    pa = pyaudio.PyAudio()   \n",
    "    \n",
    "    stream = pa.open(format=sample_format, channels=chanels,  \n",
    "                    rate=smpl_rt, input=True,  \n",
    "                    frames_per_buffer=chunk) \n",
    "    \n",
    "    print('Recording...') \n",
    "    \n",
    "    frames = []   \n",
    "    \n",
    "    for i in range(0, int(smpl_rt / chunk * seconds)): \n",
    "        data = stream.read(chunk) \n",
    "        frames.append(data) \n",
    "    \n",
    "    stream.stop_stream() \n",
    "    stream.close() \n",
    "    \n",
    "    pa.terminate() \n",
    "    \n",
    "    print('Done !!! ') \n",
    "    \n",
    "    sf = wave.open(filename, 'wb') \n",
    "    sf.setnchannels(chanels) \n",
    "    sf.setsampwidth(pa.get_sample_size(sample_format)) \n",
    "    sf.setframerate(smpl_rt) \n",
    "    sf.writeframes(b''.join(frames)) \n",
    "    sf.close()"
   ]
  },
  {
   "cell_type": "markdown",
   "metadata": {},
   "source": [
    "# Transcript voice to .txt"
   ]
  },
  {
   "cell_type": "code",
   "execution_count": null,
   "metadata": {},
   "outputs": [],
   "source": [
    "import requests\n",
    "import time"
   ]
  },
  {
   "cell_type": "code",
   "execution_count": null,
   "metadata": {},
   "outputs": [],
   "source": [
    "upload_endpoint = 'https://api.assemblyai.com/v2/upload'\n",
    "transcript_endpoint = 'https://api.assemblyai.com/v2/transcript'\n",
    "\n",
    "headers_auth_only = {'authorization': 'ac2ab90c5aef43f9aecb78f15a00a1ed'}\n",
    "\n",
    "headers = {\n",
    "    \"authorization\": 'ac2ab90c5aef43f9aecb78f15a00a1ed',\n",
    "    \"content-type\": \"application/json\"\n",
    "}\n",
    "\n",
    "CHUNK_SIZE = 5_242_880  # 5MB"
   ]
  },
  {
   "cell_type": "code",
   "execution_count": null,
   "metadata": {},
   "outputs": [],
   "source": [
    "def upload(filename):\n",
    "    def read_file(filename):\n",
    "        with open(filename, 'rb') as f:\n",
    "            while True:\n",
    "                data = f.read(CHUNK_SIZE)\n",
    "                if not data:\n",
    "                    break\n",
    "                yield data\n",
    "\n",
    "    upload_response = requests.post(upload_endpoint, headers=headers_auth_only, data=read_file(filename))\n",
    "    return upload_response.json()['upload_url']"
   ]
  },
  {
   "cell_type": "code",
   "execution_count": null,
   "metadata": {},
   "outputs": [],
   "source": [
    "def transcribe(audio_url):\n",
    "    transcript_request = {\n",
    "        'audio_url': audio_url\n",
    "    }\n",
    "\n",
    "    transcript_response = requests.post(transcript_endpoint, json=transcript_request, headers=headers)\n",
    "    return transcript_response.json()['id']"
   ]
  },
  {
   "cell_type": "code",
   "execution_count": null,
   "metadata": {},
   "outputs": [],
   "source": [
    "def poll(transcript_id):\n",
    "    polling_endpoint = transcript_endpoint + '/' + transcript_id\n",
    "    polling_response = requests.get(polling_endpoint, headers=headers)\n",
    "    return polling_response.json()"
   ]
  },
  {
   "cell_type": "code",
   "execution_count": null,
   "metadata": {},
   "outputs": [],
   "source": [
    "def get_transcription_result_url(url, seconds):\n",
    "    transcribe_id = transcribe(url)\n",
    "    while True:\n",
    "        data = poll(transcribe_id)\n",
    "        if data['status'] == 'completed':\n",
    "            return data, None\n",
    "        elif data['status'] == 'error':\n",
    "            return data, data['error']\n",
    "            \n",
    "        print(f\"waiting for {seconds * 2} seconds\")\n",
    "        time.sleep(seconds * 2)"
   ]
  },
  {
   "cell_type": "code",
   "execution_count": null,
   "metadata": {},
   "outputs": [],
   "source": [
    "def save_transcript(url, title, seconds):\n",
    "    data, error = get_transcription_result_url(url, seconds)\n",
    "    \n",
    "    if data:\n",
    "        filename = title + '.txt'\n",
    "        with open(filename, 'w') as f:\n",
    "            f.write(data['text'])\n",
    "        print('Transcript saved')\n",
    "    elif error:\n",
    "        print(\"Error!!!\", error)"
   ]
  },
  {
   "cell_type": "markdown",
   "metadata": {},
   "source": [
    "# Use recording and generate transcription"
   ]
  },
  {
   "cell_type": "code",
   "execution_count": null,
   "metadata": {},
   "outputs": [],
   "source": [
    "seconds = 6"
   ]
  },
  {
   "cell_type": "code",
   "execution_count": null,
   "metadata": {},
   "outputs": [],
   "source": [
    "record_voice(seconds)"
   ]
  },
  {
   "cell_type": "code",
   "execution_count": null,
   "metadata": {},
   "outputs": [],
   "source": [
    "filename = \"audio.m4a\"\n",
    "audio_url = upload(filename)\n",
    "\n",
    "save_transcript(audio_url, 'audio_text', seconds)"
   ]
  }
 ],
 "metadata": {
  "kernelspec": {
   "display_name": "Python 3.9.13 64-bit (windows store)",
   "language": "python",
   "name": "python3"
  },
  "language_info": {
   "name": "python",
   "version": "3.9.13"
  },
  "orig_nbformat": 4,
  "vscode": {
   "interpreter": {
    "hash": "b811989ab7539b874d66d71d0c6b35d388ecce92118bbcd5a2b3180028d72e03"
   }
  }
 },
 "nbformat": 4,
 "nbformat_minor": 2
}
